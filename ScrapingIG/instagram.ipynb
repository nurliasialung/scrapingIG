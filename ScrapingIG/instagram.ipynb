{
 "cells": [
  {
   "cell_type": "code",
   "execution_count": 1,
   "metadata": {},
   "outputs": [],
   "source": [
    "from selenium import webdriver\n",
    "from selenium.webdriver.common.keys import Keys\n",
    "from selenium.webdriver.support import expected_conditions as EC\n",
    "from selenium.webdriver.common.by import By\n",
    "from selenium.webdriver.support.wait import WebDriverWait"
   ]
  },
  {
   "cell_type": "code",
   "execution_count": 2,
   "metadata": {},
   "outputs": [],
   "source": [
    "import os\n",
    "import wget"
   ]
  },
  {
   "cell_type": "code",
   "execution_count": 3,
   "metadata": {},
   "outputs": [],
   "source": [
    "driver = webdriver.Chrome('D:/chromedriver.exe')\n",
    "driver.get(\"https://www.instagram.com/\")"
   ]
  },
  {
   "cell_type": "code",
   "execution_count": 4,
   "metadata": {},
   "outputs": [],
   "source": [
    "username = WebDriverWait(driver, 10).until(EC.element_to_be_clickable((By.CSS_SELECTOR, \"input[name='username']\")))\n",
    "password = WebDriverWait(driver, 10).until(EC.element_to_be_clickable((By.CSS_SELECTOR, \"input[name='password']\")))\n",
    "\n",
    "username.clear()\n",
    "password.clear()\n",
    "\n",
    "#input username dan pass untuk login\n",
    "username.send_keys(\" \") \n",
    "password.send_keys(\" \")"
   ]
  },
  {
   "cell_type": "code",
   "execution_count": 5,
   "metadata": {},
   "outputs": [],
   "source": [
    "log_in = WebDriverWait(driver, 10).until(EC.element_to_be_clickable((By.CSS_SELECTOR, \"button[type='submit']\"))).click()"
   ]
  },
  {
   "cell_type": "code",
   "execution_count": 6,
   "metadata": {},
   "outputs": [],
   "source": [
    "not_now = WebDriverWait(driver, 10).until(EC.element_to_be_clickable((By.XPATH, \"//button[contains(text(),'Not Now')]\"))).click()"
   ]
  },
  {
   "cell_type": "code",
   "execution_count": 7,
   "metadata": {},
   "outputs": [],
   "source": [
    "searchbox = WebDriverWait(driver, 10).until(EC.element_to_be_clickable((By.XPATH, \"//input[@placeholder='Search']\")))\n",
    "searchbox.clear()\n",
    "\n",
    "#input hastag example #cat\n",
    "keyword = \"#cat\"  \n",
    "searchbox.send_keys(keyword)"
   ]
  },
  {
   "cell_type": "code",
   "execution_count": 8,
   "metadata": {},
   "outputs": [],
   "source": [
    "searchbox.send_keys(Keys.ENTER)"
   ]
  },
  {
   "cell_type": "code",
   "execution_count": 9,
   "metadata": {},
   "outputs": [
    {
     "data": {
      "text/plain": [
       "['https://scontent-cgk1-1.cdninstagram.com/v/t51.2885-15/e35/s150x150/166459401_401610317526844_254499884371070179_n.jpg?tp=1&_nc_ht=scontent-cgk1-1.cdninstagram.com&_nc_cat=104&_nc_ohc=8kvUtN5WyWQAX_LroJr&edm=ABZsPhsAAAAA&ccb=7-4&oh=66356648dd074adb60ca4e9990fafe51&oe=608A499A&_nc_sid=4efc9f',\n",
       " 'https://scontent-cgk1-1.cdninstagram.com/v/t51.2885-15/sh0.08/e35/c0.117.937.937a/s640x640/167204227_473228757149779_690660433029302549_n.jpg?tp=1&_nc_ht=scontent-cgk1-1.cdninstagram.com&_nc_cat=107&_nc_ohc=CBY9l3gSMzwAX_DpqQ_&tn=sOOlsaOnNXpEVdjo&edm=ABZsPhsAAAAA&ccb=7-4&oh=3a50c4b01724ca048737ccca79c3a012&oe=608D0F10&_nc_sid=4efc9f',\n",
       " 'https://scontent-cgk1-1.cdninstagram.com/v/t51.2885-15/e15/c0.90.720.720a/s640x640/167373480_2876296085968406_398743388310661460_n.jpg?tp=1&_nc_ht=scontent-cgk1-1.cdninstagram.com&_nc_cat=1&_nc_ohc=3coAxY3yxq8AX8bH0s2&edm=ABZsPhsAAAAA&ccb=7-4&oh=1b0728efcc23a60b37209350784e4ff3&oe=60692FE9&_nc_sid=4efc9f',\n",
       " 'https://scontent-cgk1-1.cdninstagram.com/v/t51.2885-15/e15/c0.80.640.640a/166893751_454180739121094_4849406271356708738_n.jpg?tp=1&_nc_ht=scontent-cgk1-1.cdninstagram.com&_nc_cat=1&_nc_ohc=s6dNE9pHWFEAX-SbWQk&edm=ABZsPhsAAAAA&ccb=7-4&oh=f94cc9414ca4a9350c7cdc0867c16be5&oe=606903B0&_nc_sid=4efc9f',\n",
       " 'https://scontent-cgk1-1.cdninstagram.com/v/t51.2885-15/e35/c0.67.540.540a/166817348_863221994520357_1986512711217717355_n.jpg?tp=1&_nc_ht=scontent-cgk1-1.cdninstagram.com&_nc_cat=109&_nc_ohc=tQKTSa9TOAMAX-k5BS7&edm=ABZsPhsAAAAA&ccb=7-4&oh=2b3ea21afc448abdc68726fc4b9db21d&oe=60691AE1&_nc_sid=4efc9f',\n",
       " 'https://scontent-cgk1-1.cdninstagram.com/v/t51.2885-15/sh0.08/e35/c0.0.1439.1439a/s640x640/167219523_769067137373017_7217701428954292709_n.jpg?tp=1&_nc_ht=scontent-cgk1-1.cdninstagram.com&_nc_cat=101&_nc_ohc=J0RJmuRRQfEAX_mvsaU&edm=ABZsPhsAAAAA&ccb=7-4&oh=526558c700de1b76a6ae7cc398bbe260&oe=608B9B25&_nc_sid=4efc9f',\n",
       " 'https://scontent-cgk1-1.cdninstagram.com/v/t51.2885-15/sh0.08/e35/s640x640/166993884_282433716782125_7603685305779334219_n.jpg?tp=1&_nc_ht=scontent-cgk1-1.cdninstagram.com&_nc_cat=101&_nc_ohc=kJtZ3O1XLe8AX_qfzSx&edm=ABZsPhsAAAAA&ccb=7-4&oh=02dd2ccdd963f299325d97c74387e2d9&oe=608D6599&_nc_sid=4efc9f',\n",
       " 'https://scontent-cgk1-1.cdninstagram.com/v/t51.2885-15/sh0.08/e35/c0.120.1440.1440a/s640x640/166846279_235448941659839_1930366934553915406_n.jpg?tp=1&_nc_ht=scontent-cgk1-1.cdninstagram.com&_nc_cat=111&_nc_ohc=BHBo2AZbqv0AX9sP_cm&edm=ABZsPhsAAAAA&ccb=7-4&oh=3759e35ef83f59936e3bccf21cfc3ade&oe=608BBCD2&_nc_sid=4efc9f',\n",
       " 'https://scontent-cgk1-1.cdninstagram.com/v/t51.2885-15/sh0.08/e35/s640x640/166985764_287537979536604_4680636331452441637_n.jpg?tp=1&_nc_ht=scontent-cgk1-1.cdninstagram.com&_nc_cat=100&_nc_ohc=hd4zjEoYAAEAX93EqjL&edm=ABZsPhsAAAAA&ccb=7-4&oh=d133762b1013994bdd5ae78dbc691837&oe=608DAC0E&_nc_sid=4efc9f',\n",
       " 'https://scontent-cgk1-1.cdninstagram.com/v/t51.2885-15/sh0.08/e35/s640x640/167472410_899954564192779_8333665089539543698_n.jpg?tp=1&_nc_ht=scontent-cgk1-1.cdninstagram.com&_nc_cat=1&_nc_ohc=7LogYvVQfzMAX_fXPnk&edm=ABZsPhsAAAAA&ccb=7-4&oh=c0b9c1561e190dfcd437915639815d4f&oe=608D7675&_nc_sid=4efc9f',\n",
       " 'https://scontent-cgk1-1.cdninstagram.com/v/t51.2885-15/e35/c0.66.528.528a/166783140_845059779557171_1140695418363809444_n.jpg?tp=1&_nc_ht=scontent-cgk1-1.cdninstagram.com&_nc_cat=111&_nc_ohc=JM0RghVzJHIAX9mbCBh&edm=ABZsPhsAAAAA&ccb=7-4&oh=3071d0dd0b60ec84ae9483de405e7ce2&oe=608C4419&_nc_sid=4efc9f',\n",
       " 'https://scontent-cgk1-1.cdninstagram.com/v/t51.2885-15/sh0.08/e35/s640x640/167211610_1546318085566862_4785650828872275932_n.jpg?tp=1&_nc_ht=scontent-cgk1-1.cdninstagram.com&_nc_cat=102&_nc_ohc=XDUDP0vuMkoAX9TTGLT&edm=ABZsPhsAAAAA&ccb=7-4&oh=499ee934bbd02b182a483a0ec4ebe1b6&oe=608CA03C&_nc_sid=4efc9f',\n",
       " 'https://scontent-cgk1-1.cdninstagram.com/v/t51.2885-15/sh0.08/e35/c0.120.960.960a/s640x640/167097212_1086954175135892_360285988812208778_n.jpg?tp=1&_nc_ht=scontent-cgk1-1.cdninstagram.com&_nc_cat=108&_nc_ohc=v_wG0HguWUAAX8YxZds&edm=ABZsPhsAAAAA&ccb=7-4&oh=07189494b83f40eeedd75e4b5348a602&oe=608BB0DC&_nc_sid=4efc9f',\n",
       " 'https://scontent-cgk1-1.cdninstagram.com/v/t51.2885-15/sh0.08/e35/s640x640/167983327_279404196974130_2512210059800643493_n.jpg?tp=1&_nc_ht=scontent-cgk1-1.cdninstagram.com&_nc_cat=106&_nc_ohc=cG6lAvRMqm0AX81naJp&edm=ABZsPhsAAAAA&ccb=7-4&oh=6abfdcecf569f7aef7987e7e290eaf4e&oe=608DB7DF&_nc_sid=4efc9f',\n",
       " 'https://scontent-cgk1-1.cdninstagram.com/v/t51.2885-15/sh0.08/e35/s640x640/167529569_494178605290940_724581671439894522_n.jpg?tp=1&_nc_ht=scontent-cgk1-1.cdninstagram.com&_nc_cat=108&_nc_ohc=XCt62xy2nwEAX9KQ2Mm&edm=ABZsPhsAAAAA&ccb=7-4&oh=591ea16ae7a612004817037ba37191f2&oe=608D2B1E&_nc_sid=4efc9f',\n",
       " 'https://scontent-cgk1-1.cdninstagram.com/v/t51.2885-15/sh0.08/e35/s640x640/168490283_446244889965586_5255775257712739846_n.jpg?tp=1&_nc_ht=scontent-cgk1-1.cdninstagram.com&_nc_cat=110&_nc_ohc=lx3C81FiN2oAX_dX6QG&edm=ABZsPhsAAAAA&ccb=7-4&oh=2a451a18a7272f41efbdfe22ea7dd0b1&oe=608B33CA&_nc_sid=4efc9f',\n",
       " 'https://scontent-cgk1-1.cdninstagram.com/v/t51.2885-15/sh0.08/e35/c0.24.1440.1440a/s640x640/167699760_876797429831260_5514849778094944653_n.jpg?tp=1&_nc_ht=scontent-cgk1-1.cdninstagram.com&_nc_cat=104&_nc_ohc=twNC70y7CnMAX9HNKKL&edm=ABZsPhsAAAAA&ccb=7-4&oh=b8083153577d0aec7a6158cf6b709229&oe=608CFECB&_nc_sid=4efc9f',\n",
       " 'https://scontent-cgk1-1.cdninstagram.com/v/t51.2885-15/sh0.08/e35/c0.180.1440.1440a/s640x640/167030892_1304744646587669_5847234652410189480_n.jpg?tp=1&_nc_ht=scontent-cgk1-1.cdninstagram.com&_nc_cat=105&_nc_ohc=TkJro0WGGQMAX_vflaC&edm=ABZsPhsAAAAA&ccb=7-4&oh=de97239a696625ace9528d19e7d85009&oe=608D0184&_nc_sid=4efc9f',\n",
       " 'https://scontent-cgk1-1.cdninstagram.com/v/t51.2885-15/sh0.08/e35/s640x640/166879395_270727281384707_1903998415263066154_n.jpg?tp=1&_nc_ht=scontent-cgk1-1.cdninstagram.com&_nc_cat=111&_nc_ohc=dHcO0WGMLEgAX9TKFiW&edm=ABZsPhsAAAAA&ccb=7-4&oh=02876be3836114acdc64d8c67603b179&oe=608B29C9&_nc_sid=4efc9f',\n",
       " 'https://scontent-cgk1-1.cdninstagram.com/v/t51.2885-15/sh0.08/e35/c0.90.720.720a/s640x640/167502043_441862280254171_5563958747034433012_n.jpg?tp=1&_nc_ht=scontent-cgk1-1.cdninstagram.com&_nc_cat=107&_nc_ohc=ywMeFm6zmMwAX_oxVm6&edm=ABZsPhsAAAAA&ccb=7-4&oh=78f6827c6e7cc92d9b5936dd112611de&oe=6068FB54&_nc_sid=4efc9f',\n",
       " 'https://scontent-cgk1-1.cdninstagram.com/v/t51.2885-15/sh0.08/e35/c0.179.1440.1440a/s640x640/166973824_183680160081442_5597689349330183518_n.jpg?tp=1&_nc_ht=scontent-cgk1-1.cdninstagram.com&_nc_cat=110&_nc_ohc=axJQXoSoYEEAX8A3wuM&tn=6rP8bppW5Cz5xUfX&edm=ABZsPhsAAAAA&ccb=7-4&oh=147a74d4efb9b8e6319a7363a7ae2d4b&oe=608C5F81&_nc_sid=4efc9f',\n",
       " 'https://scontent-cgk1-1.cdninstagram.com/v/t51.2885-15/sh0.08/e35/c73.0.735.735a/s640x640/167060669_795919528019668_8110633158261766659_n.jpg?tp=1&_nc_ht=scontent-cgk1-1.cdninstagram.com&_nc_cat=104&_nc_ohc=EOshZ9moeRYAX_J4NaS&edm=ABZsPhsAAAAA&ccb=7-4&oh=07ff72be2357b20d2a56b3d84834464a&oe=608CCFC6&_nc_sid=4efc9f',\n",
       " 'https://scontent-cgk1-1.cdninstagram.com/v/t51.2885-15/e35/c157.0.406.406a/167720657_160981305879885_4789142823189906712_n.jpg?tp=1&_nc_ht=scontent-cgk1-1.cdninstagram.com&_nc_cat=109&_nc_ohc=VZwUdCwpT4gAX-CQZ8v&edm=ABZsPhsAAAAA&ccb=7-4&oh=83fc9e236feef9bee3f8070c50f4ca3e&oe=60691A6C&_nc_sid=4efc9f',\n",
       " 'https://scontent-cgk1-1.cdninstagram.com/v/t51.2885-15/sh0.08/e35/c0.68.1440.1440a/s640x640/168305279_1499201143770333_3820540734629726931_n.jpg?tp=1&_nc_ht=scontent-cgk1-1.cdninstagram.com&_nc_cat=109&_nc_ohc=dH__R9l3ezAAX8Dvbcy&edm=ABZsPhsAAAAA&ccb=7-4&oh=1c9d471cf40144e59a01ba9f1a336371&oe=608B0D39&_nc_sid=4efc9f',\n",
       " 'https://scontent-cgk1-1.cdninstagram.com/v/t51.2885-15/sh0.08/e35/c0.180.1440.1440a/s640x640/166456429_781199976132032_2390821913248681700_n.jpg?tp=1&_nc_ht=scontent-cgk1-1.cdninstagram.com&_nc_cat=108&_nc_ohc=WeSloZG2H8gAX8EjC1o&edm=ABZsPhsAAAAA&ccb=7-4&oh=2cf2d24304f0e9070e2d5ca6105338a7&oe=608C7BBE&_nc_sid=4efc9f',\n",
       " 'https://scontent-cgk1-1.cdninstagram.com/v/t51.2885-15/sh0.08/e35/s640x640/167506168_323429036047786_6477539641160593668_n.jpg?tp=1&_nc_ht=scontent-cgk1-1.cdninstagram.com&_nc_cat=110&_nc_ohc=sh3oBJuPEAAAX9YgWlw&edm=ABZsPhsAAAAA&ccb=7-4&oh=62d9c086f694d3a2d28f98105d9ddaea&oe=608C106C&_nc_sid=4efc9f',\n",
       " 'https://scontent-cgk1-1.cdninstagram.com/v/t51.2885-15/sh0.08/e35/s640x640/167405383_3051439925091142_2008777998245677810_n.jpg?tp=1&_nc_ht=scontent-cgk1-1.cdninstagram.com&_nc_cat=110&_nc_ohc=lE1NQb9aMqgAX_9xREe&edm=ABZsPhsAAAAA&ccb=7-4&oh=4c673e1c848736229a7debf7c8eef268&oe=608D1C93&_nc_sid=4efc9f',\n",
       " 'https://scontent-cgk1-1.cdninstagram.com/v/t51.2885-15/sh0.08/e35/c0.82.662.662a/s640x640/167245780_1954860187995579_6894319488702911404_n.jpg?tp=1&_nc_ht=scontent-cgk1-1.cdninstagram.com&_nc_cat=103&_nc_ohc=JdvbvNrptA4AX8qL56Z&edm=ABZsPhsAAAAA&ccb=7-4&oh=16f94fd32aa61df79f60edd6b342a1d5&oe=608B2465&_nc_sid=4efc9f',\n",
       " 'https://scontent-cgk1-1.cdninstagram.com/v/t51.2885-15/e35/c0.72.576.576a/167355722_894772791094741_3721259778270321703_n.jpg?tp=1&_nc_ht=scontent-cgk1-1.cdninstagram.com&_nc_cat=101&_nc_ohc=qPWuzCz3ZyYAX_VzW4d&edm=ABZsPhsAAAAA&ccb=7-4&oh=bf615fa547ded7c6bd545975d5e94c9b&oe=6068A69F&_nc_sid=4efc9f',\n",
       " 'https://scontent-cgk1-1.cdninstagram.com/v/t51.2885-15/sh0.08/e35/s640x640/167044700_279863770321449_7141753896415871739_n.jpg?tp=1&_nc_ht=scontent-cgk1-1.cdninstagram.com&_nc_cat=109&_nc_ohc=esTf3U08gusAX9yqQ70&edm=ABZsPhsAAAAA&ccb=7-4&oh=7b08c98ea2ba768245fac984cbecb7a9&oe=608ADFB6&_nc_sid=4efc9f',\n",
       " 'https://scontent-cgk1-1.cdninstagram.com/v/t51.2885-15/sh0.08/e35/s640x640/166938321_4097558140279391_6050375268128126959_n.jpg?tp=1&_nc_ht=scontent-cgk1-1.cdninstagram.com&_nc_cat=111&_nc_ohc=_vAuceYZ1NUAX_ZJvpl&edm=ABZsPhsAAAAA&ccb=7-4&oh=667fe0e4bb02d924d6b10ddc4a2d5934&oe=608A98D7&_nc_sid=4efc9f',\n",
       " 'https://scontent-cgk1-1.cdninstagram.com/v/t51.2885-15/sh0.08/e35/c180.0.1080.1080a/s640x640/167578745_1177289082706247_2732842577769645465_n.jpg?tp=1&_nc_ht=scontent-cgk1-1.cdninstagram.com&_nc_cat=111&_nc_ohc=1RiCZCGTq6EAX-WzzQB&edm=ABZsPhsAAAAA&ccb=7-4&oh=1bfdcdf3f17d83ee410cf3d86b5c0843&oe=608CF856&_nc_sid=4efc9f',\n",
       " 'https://scontent-cgk1-1.cdninstagram.com/v/t51.2885-15/e15/c82.0.916.916a/s640x640/167554715_449868016236178_1660996576116031315_n.jpg?tp=1&_nc_ht=scontent-cgk1-1.cdninstagram.com&_nc_cat=110&_nc_ohc=jgykzNQHgf0AX-sJSEQ&edm=ABZsPhsAAAAA&ccb=7-4&oh=68cc076448b29b00b9e3760ad92df57e&oe=608AF446&_nc_sid=4efc9f',\n",
       " 'https://scontent-cgk1-1.cdninstagram.com/v/t51.2885-15/sh0.08/e35/s640x640/167562702_829268577687422_8534842484854740601_n.jpg?tp=1&_nc_ht=scontent-cgk1-1.cdninstagram.com&_nc_cat=102&_nc_ohc=EdU1iAW3IDMAX_pjGEt&edm=ABZsPhsAAAAA&ccb=7-4&oh=6b9ccab4b876604c0aafdf53c486669c&oe=608B1649&_nc_sid=4efc9f',\n",
       " 'https://www.instagram.com/static/images/web/mobile_nav_type_logo.png/735145cfe0a4.png',\n",
       " 'https://scontent-cgk1-1.cdninstagram.com/v/t51.2885-19/s150x150/163246549_442750623494150_2859168574853210490_n.jpg?tp=1&_nc_ht=scontent-cgk1-1.cdninstagram.com&_nc_ohc=t1fh-zBPDucAX97RFro&edm=AIQHJ4wAAAAA&ccb=7-4&oh=d0a7c76d9fe2a67cbd35f57579ba6a0a&oe=608D4CC3&_nc_sid=7b02f1']"
      ]
     },
     "execution_count": 9,
     "metadata": {},
     "output_type": "execute_result"
    }
   ],
   "source": [
    "driver.execute_script(\"window.scrollTo(0,4000);\")\n",
    "\n",
    "images = driver.find_elements_by_tag_name('img')\n",
    "images = [image.get_attribute('src') for image in images]\n",
    "\n",
    "images"
   ]
  },
  {
   "cell_type": "code",
   "execution_count": 10,
   "metadata": {},
   "outputs": [
    {
     "data": {
      "text/plain": [
       "'C:\\\\Users\\\\asus\\\\Documents\\\\ScrapingIG\\\\cats'"
      ]
     },
     "execution_count": 10,
     "metadata": {},
     "output_type": "execute_result"
    }
   ],
   "source": [
    "path = os.getcwd()\n",
    "path = os.path.join(path, keyword[1:] + \"s\")\n",
    "\n",
    "os.mkdir(path)\n",
    "path"
   ]
  },
  {
   "cell_type": "code",
   "execution_count": 11,
   "metadata": {},
   "outputs": [
    {
     "name": "stdout",
     "output_type": "stream",
     "text": [
      "100% [................................................................................] 6798 / 6798"
     ]
    }
   ],
   "source": [
    "counter = 0\n",
    "for image in images:\n",
    "    save_as = os.path.join(path, keyword[1:] + str(counter) + '.jpg')\n",
    "    wget.download(image, save_as)\n",
    "    counter += 1"
   ]
  },
  {
   "cell_type": "code",
   "execution_count": null,
   "metadata": {},
   "outputs": [],
   "source": []
  }
 ],
 "metadata": {
  "kernelspec": {
   "display_name": "Python 3",
   "language": "python",
   "name": "python3"
  },
  "language_info": {
   "codemirror_mode": {
    "name": "ipython",
    "version": 3
   },
   "file_extension": ".py",
   "mimetype": "text/x-python",
   "name": "python",
   "nbconvert_exporter": "python",
   "pygments_lexer": "ipython3",
   "version": "3.7.4"
  }
 },
 "nbformat": 4,
 "nbformat_minor": 2
}
